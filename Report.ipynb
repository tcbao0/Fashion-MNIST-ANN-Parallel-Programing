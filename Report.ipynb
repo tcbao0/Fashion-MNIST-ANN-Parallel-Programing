{
  "cells": [
    {
      "cell_type": "code",
      "execution_count": null,
      "metadata": {
        "colab": {
          "base_uri": "https://localhost:8080/"
        },
        "id": "wngA3Ov3M99Z",
        "outputId": "ba5d0615-6618-4fa6-bad1-b92ba984f1cd"
      },
      "outputs": [
        {
          "output_type": "stream",
          "name": "stdout",
          "text": [
            "Archive:  dataset.zip\n",
            "   creating: dataset/\n",
            "  inflating: dataset/dataset.zip     \n",
            "   creating: dataset/test/\n",
            "  inflating: dataset/test/t10k-images-idx3-ubyte  \n",
            "  inflating: dataset/test/t10k-labels-idx1-ubyte  \n",
            "   creating: dataset/train/\n",
            "  inflating: dataset/train/train-images-idx3-ubyte  \n",
            "  inflating: dataset/train/train-labels-idx1-ubyte  \n"
          ]
        }
      ],
      "source": [
        "!unzip dataset"
      ]
    },
    {
      "cell_type": "code",
      "source": [
        "!nvcc Code-DoAnCuoiKy.cu -o Code-DoAnCuoiKy"
      ],
      "metadata": {
        "id": "_FTC2roYNCTn"
      },
      "execution_count": null,
      "outputs": []
    },
    {
      "cell_type": "code",
      "source": [
        "!./Code-DoAnCuoiKy"
      ],
      "metadata": {
        "colab": {
          "base_uri": "https://localhost:8080/"
        },
        "id": "96V5y6YMNK9C",
        "outputId": "bfffa8b9-f9d0-4893-a68a-7c9a9be7961c"
      },
      "execution_count": null,
      "outputs": [
        {
          "output_type": "stream",
          "name": "stdout",
          "text": [
            "Training Set:\n",
            "Number of training images: 60000\n",
            "Training image size: 28x28\n",
            "Number of training labels: 60000\n",
            "Test Set:\n",
            "Number of Test images: 10000\n",
            "Test image size: 28x28\n",
            "Number of Test labels: 10000\n",
            "\n",
            "### Huấn luyện mô hình với Host ###\n",
            "\n",
            "Epoch 1: Accuracy = 0.8154\n",
            "Epoch 2: Accuracy = 0.8316\n",
            "Epoch 3: Accuracy = 0.8380\n",
            "Epoch 4: Accuracy = 0.8435\n",
            "Epoch 5: Accuracy = 0.8475\n",
            "Epoch 6: Accuracy = 0.8501\n",
            "Epoch 7: Accuracy = 0.8501\n",
            "Epoch 8: Accuracy = 0.8525\n",
            "Epoch 9: Accuracy = 0.8540\n",
            "Epoch 10: Accuracy = 0.8557\n",
            "\n",
            "Quá trình feedforward:\n",
            "Thời gian chạy trung bình ở lớp Input trong 1 epoch là: 576.259705\n",
            "Thời gian chạy trung bình ở lớp Hidden 1 trong 1 epoch là: 25834.351562\n",
            "Thời gian chạy trung bình ở lớp Hidden 2 trong 1 epoch là: 4557.697754\n",
            "Thời gian chạy trung bình ở lớp Output trong 1 epoch là: 717.903442\n",
            "\n",
            "Quá trình backpropagation:\n",
            "Thời gian cập nhật trọng số trung bình từ hidden 1 về input trong 1 epoch là: 31955.984375\n",
            "Thời gian cập nhật trọng số trung bình từ hidden 2 về hidden 1 trong 1 epoch là: 5257.944336\n",
            "Thời gian cập nhật trọng số trung bình từ output về hidden 2 trong 1 epoch là: 771.836548\n",
            "Độ chính xác của mô hình trên tập test là: 85.57%\n",
            "\n",
            "### Huấn luyện mô hình với kernel1 ###\n",
            "\n",
            "\n",
            "Quá trình feedforward:\n",
            "Thời gian chạy trung bình ở lớp Input trong 1 epoch là: 0.007834\n",
            "Thời gian chạy trung bình ở lớp Hidden 1 trong 1 epoch là: 0.007146\n",
            "Thời gian chạy trung bình ở lớp Hidden 2 trong 1 epoch là: 0.006941\n",
            "Thời gian chạy trung bình ở lớp Output trong 1 epoch là: 0.007293\n",
            "\n",
            "Quá trình backpropagation:\n",
            "Thời gian cập nhật trọng số trung bình từ hidden 1 về input trong 1 epoch là: 0.000000\n",
            "Thời gian cập nhật trọng số trung bình từ hidden 2 về hidden 1 trong 1 epoch là: 0.000000\n",
            "Thời gian cập nhật trọng số trung bình từ output về hidden 2 trong 1 epoch là: 0.000000\n",
            "Độ chính xác của mô hình trên tập test là: 0.00%\n",
            "\n",
            "### Huấn luyện mô hình với kernel2 ###\n",
            "\n",
            "\n",
            "Quá trình feedforward:\n",
            "Thời gian chạy trung bình ở lớp Input trong 1 epoch là: 0.007498\n",
            "Thời gian chạy trung bình ở lớp Hidden 1 trong 1 epoch là: 0.006989\n",
            "Thời gian chạy trung bình ở lớp Hidden 2 trong 1 epoch là: 0.006835\n",
            "Thời gian chạy trung bình ở lớp Output trong 1 epoch là: 0.006742\n",
            "\n",
            "Quá trình backpropagation:\n",
            "Thời gian cập nhật trọng số trung bình từ hidden 1 về input trong 1 epoch là: 0.000000\n",
            "Thời gian cập nhật trọng số trung bình từ hidden 2 về hidden 1 trong 1 epoch là: 0.000000\n",
            "Thời gian cập nhật trọng số trung bình từ output về hidden 2 trong 1 epoch là: 0.000000\n",
            "Độ chính xác của mô hình trên tập test là: 0.00%\n"
          ]
        }
      ]
    }
  ],
  "metadata": {
    "language_info": {
      "name": "python"
    },
    "colab": {
      "provenance": [],
      "gpuType": "T4"
    },
    "kernelspec": {
      "name": "python3",
      "display_name": "Python 3"
    },
    "accelerator": "GPU"
  },
  "nbformat": 4,
  "nbformat_minor": 0
}